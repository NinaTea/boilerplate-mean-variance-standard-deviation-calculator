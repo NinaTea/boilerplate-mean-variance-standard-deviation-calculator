{
 "cells": [
  {
   "cell_type": "code",
   "execution_count": null,
   "metadata": {},
   "outputs": [],
   "source": [
    "import numpy as np\n",
    "\n",
    "def calculate(lista):\n",
    "\n",
    "  calculations = {\"mean\" : [], \n",
    "                   \"variance\" : [],\n",
    "                   \"standard deviation\" : [],\n",
    "                   \"max\": [],\n",
    "                   \"min\" : [],\n",
    "                    \"sum\": [],\n",
    "                   }\n",
    "\n",
    "  if len(lista) != 9:\n",
    "    raise ValueError(\"List must contain nine numbers.\")    \n",
    "\n",
    "  l1 = lista[0:3]\n",
    "  l2 = lista[3:6]\n",
    "  l3 = lista[6:9]\n",
    "    \n",
    "  array = [l1,l2,l3]\n",
    "  m = np.array(array).reshape(3,3)\n",
    "        \n",
    "  for i in range(2): #esto calcula el promedio\n",
    "    calculations[\"mean\"].append(list(np.mean(m, axis=i)))\n",
    "         \n",
    "  calculations[\"mean\"].append(np.mean(m.flatten()))\n",
    "        \n",
    "  for i in range(2): #esto calcula la varianza\n",
    "    calculations[\"variance\"].append(list(np.var(m, axis=i)))\n",
    "        \n",
    "  calculations[\"variance\"].append(np.var(m.flatten()))\n",
    "        \n",
    "  for i in range(2): #esto calcula la desviación estándar\n",
    "    calculations[\"standard deviation\"].append(list(np.std(m, axis=i)))\n",
    "        \n",
    "  calculations[\"standard deviation\"].append(np.std(m.flatten()))\n",
    "\n",
    "  for i in range(2): #esto calcula el máximo\n",
    "    calculations[\"max\"].append(list(np.max(m, axis=i)))\n",
    "        \n",
    "  calculations[\"max\"].append(np.max(m.flatten()))\n",
    "\n",
    "  for i in range(2): #esto calcula el mínimo\n",
    "    calculations[\"min\"].append(list(np.min(m, axis=i)))\n",
    "        \n",
    "  calculations[\"min\"].append(np.min(m.flatten()))\n",
    "        \n",
    "  for i in range(2): #esto calcula ela suma\n",
    "    calculations[\"sum\"].append(list(np.sum(m, axis=i)))\n",
    "        \n",
    "  calculations[\"sum\"].append(np.sum(m.flatten()))\n",
    "    \n",
    "  return calculations\n"
   ]
  },
  {
   "cell_type": "code",
   "execution_count": null,
   "metadata": {},
   "outputs": [],
   "source": []
  },
  {
   "cell_type": "code",
   "execution_count": null,
   "metadata": {},
   "outputs": [],
   "source": []
  }
 ],
 "metadata": {
  "kernelspec": {
   "display_name": "Python 3",
   "language": "python",
   "name": "python3"
  },
  "language_info": {
   "codemirror_mode": {
    "name": "ipython",
    "version": 3
   },
   "file_extension": ".py",
   "mimetype": "text/x-python",
   "name": "python",
   "nbconvert_exporter": "python",
   "pygments_lexer": "ipython3",
   "version": "3.8.3"
  }
 },
 "nbformat": 4,
 "nbformat_minor": 4
}
